{
  "metadata": {
    "language_info": {
      "codemirror_mode": {
        "name": "python",
        "version": 3
      },
      "file_extension": ".py",
      "mimetype": "text/x-python",
      "name": "python",
      "nbconvert_exporter": "python",
      "pygments_lexer": "ipython3",
      "version": "3.8"
    },
    "kernelspec": {
      "name": "python",
      "display_name": "Pyolite",
      "language": "python"
    }
  },
  "nbformat_minor": 4,
  "nbformat": 4,
  "cells": [
    {
      "cell_type": "code",
      "source": "#for loop\nl=[1,2,3,4,5,\"varsha\",\"gs\",45.3]\nfor i in l:\n    print(i)",
      "metadata": {
        "trusted": true
      },
      "execution_count": 7,
      "outputs": [
        {
          "name": "stdout",
          "text": "1\n2\n3\n4\n5\nvarsha\ngs\n45.3\n",
          "output_type": "stream"
        }
      ]
    },
    {
      "cell_type": "code",
      "source": "#if we want to not expect any part,\nfor i in l:\n    pass",
      "metadata": {
        "trusted": true
      },
      "execution_count": 2,
      "outputs": []
    },
    {
      "cell_type": "code",
      "source": "#execute list\nfor i in l:\n    print(i)\nelse:\n    print(\"if for loop is going to\")",
      "metadata": {
        "trusted": true
      },
      "execution_count": 3,
      "outputs": [
        {
          "name": "stdout",
          "text": "1\n2\n3\n5\nvarsha\ngs\n45.3\nif for loop is going to\n",
          "output_type": "stream"
        }
      ]
    },
    {
      "cell_type": "code",
      "source": "for i in l:\n    if i == 4:\n        break\n    print(i)\nelse:\n    print(\"this will be\")",
      "metadata": {
        "trusted": true
      },
      "execution_count": 8,
      "outputs": [
        {
          "name": "stdout",
          "text": "1\n2\n3\n",
          "output_type": "stream"
        }
      ]
    },
    {
      "cell_type": "code",
      "source": "#string:\ns = \"varsha\"\nfor i in s:\n    if i == \"n\":\n        break\n    print(i)\nelse:\n    print(\"string\", s)",
      "metadata": {
        "trusted": true
      },
      "execution_count": 9,
      "outputs": [
        {
          "name": "stdout",
          "text": "v\na\nr\ns\nh\na\nstring varsha\n",
          "output_type": "stream"
        }
      ]
    },
    {
      "cell_type": "code",
      "source": "#string:\ns = \"varsha\"\nfor i in s:\n    if i == \"h\":\n        break\n    print(i)\nelse:\n    print(\"string\", s)",
      "metadata": {
        "trusted": true
      },
      "execution_count": 10,
      "outputs": [
        {
          "name": "stdout",
          "text": "v\na\nr\ns\n",
          "output_type": "stream"
        }
      ]
    },
    {
      "cell_type": "code",
      "source": "#tuple:\nt = (4,5,6,7,8,9,\"varsha\")\nfor i in t:\n    print(i)\n",
      "metadata": {
        "trusted": true
      },
      "execution_count": 11,
      "outputs": [
        {
          "name": "stdout",
          "text": "4\n5\n6\n7\n8\n9\nvarsha\n",
          "output_type": "stream"
        }
      ]
    },
    {
      "cell_type": "code",
      "source": "#dict\nd = {4,5,6,7,8,7,7,\"key1\" : \"varsha\"}",
      "metadata": {
        "trusted": true
      },
      "execution_count": 22,
      "outputs": [
        {
          "ename": "<class 'SyntaxError'>",
          "evalue": "invalid syntax (<ipython-input-22-7125c5c2fc54>, line 2)",
          "traceback": [
            "\u001b[0;36m  Input \u001b[0;32mIn [22]\u001b[0;36m\u001b[0m\n\u001b[0;31m    d = {4,5,6,7,8,7,7,\"key1\" : \"varsha\"}\u001b[0m\n\u001b[0m                              ^\u001b[0m\n\u001b[0;31mSyntaxError\u001b[0m\u001b[0;31m:\u001b[0m invalid syntax\n"
          ],
          "output_type": "error"
        }
      ]
    },
    {
      "cell_type": "code",
      "source": "for i in d:\n    print(i, )",
      "metadata": {
        "trusted": true
      },
      "execution_count": 27,
      "outputs": [
        {
          "name": "stdout",
          "text": "4\n5\n6\n7\n8\nvarsha\n",
          "output_type": "stream"
        }
      ]
    },
    {
      "cell_type": "code",
      "source": "#range:- starting to range from 0 till n.\nrange(9)",
      "metadata": {
        "trusted": true
      },
      "execution_count": 28,
      "outputs": [
        {
          "execution_count": 28,
          "output_type": "execute_result",
          "data": {
            "text/plain": "range(0, 9)"
          },
          "metadata": {}
        }
      ]
    },
    {
      "cell_type": "code",
      "source": "range(9,0)",
      "metadata": {
        "trusted": true
      },
      "execution_count": 29,
      "outputs": [
        {
          "execution_count": 29,
          "output_type": "execute_result",
          "data": {
            "text/plain": "range(9, 0)"
          },
          "metadata": {}
        }
      ]
    },
    {
      "cell_type": "code",
      "source": "list(range(9))",
      "metadata": {
        "trusted": true
      },
      "execution_count": 30,
      "outputs": [
        {
          "execution_count": 30,
          "output_type": "execute_result",
          "data": {
            "text/plain": "[0, 1, 2, 3, 4, 5, 6, 7, 8]"
          },
          "metadata": {}
        }
      ]
    },
    {
      "cell_type": "code",
      "source": "for i in range(9):\n    print(i)\nlist(range(0,9,2))",
      "metadata": {
        "trusted": true
      },
      "execution_count": 32,
      "outputs": [
        {
          "name": "stdout",
          "text": "0\n1\n2\n3\n4\n5\n6\n7\n8\n",
          "output_type": "stream"
        },
        {
          "execution_count": 32,
          "output_type": "execute_result",
          "data": {
            "text/plain": "[0, 2, 4, 6, 8]"
          },
          "metadata": {}
        }
      ]
    },
    {
      "cell_type": "code",
      "source": "list(range(0,9,-1))",
      "metadata": {
        "trusted": true
      },
      "execution_count": 33,
      "outputs": [
        {
          "execution_count": 33,
          "output_type": "execute_result",
          "data": {
            "text/plain": "[]"
          },
          "metadata": {}
        }
      ]
    },
    {
      "cell_type": "code",
      "source": "list(range(9,0,-1))",
      "metadata": {
        "trusted": true
      },
      "execution_count": 34,
      "outputs": [
        {
          "execution_count": 34,
          "output_type": "execute_result",
          "data": {
            "text/plain": "[9, 8, 7, 6, 5, 4, 3, 2, 1]"
          },
          "metadata": {}
        }
      ]
    },
    {
      "cell_type": "code",
      "source": "n=4\nfor i in range(4):\n    for j in range(0, i+1):\n        print(\"varsha\", end= \" \")\n    print(\"\\n\")",
      "metadata": {
        "trusted": true
      },
      "execution_count": 39,
      "outputs": [
        {
          "name": "stdout",
          "text": "varsha \n\nvarsha varsha \n\nvarsha varsha varsha \n\nvarsha varsha varsha varsha \n\n",
          "output_type": "stream"
        }
      ]
    },
    {
      "cell_type": "code",
      "source": "n=3\nfor i in range(n):\n    for j in range(i, n-1):\n        print(\" \" * len(\"varsha\"), end= \" \")\n    for j in range (i+1):\n        print(\"varsha\",end= \" \")\n    for j in range(i):\n        print(\"varsha\",end=\" \")\n    print()",
      "metadata": {
        "trusted": true
      },
      "execution_count": 40,
      "outputs": [
        {
          "name": "stdout",
          "text": "              varsha \n       varsha varsha varsha \nvarsha varsha varsha varsha varsha \n",
          "output_type": "stream"
        }
      ]
    },
    {
      "cell_type": "code",
      "source": "#multiple loop\nt=(3,23,45,67,2,4,5,6)\n#if we want to print element,\nfor i in range(len(t)):\n    print(i, t[i])",
      "metadata": {
        "trusted": true
      },
      "execution_count": 41,
      "outputs": [
        {
          "name": "stdout",
          "text": "0 3\n1 23\n2 45\n3 67\n4 2\n5 4\n6 5\n7 6\n",
          "output_type": "stream"
        }
      ]
    },
    {
      "cell_type": "code",
      "source": "s = \"varsha\"\nfor i in range(len(s)):\n    print(i, s[i])",
      "metadata": {
        "trusted": true
      },
      "execution_count": 42,
      "outputs": [
        {
          "name": "stdout",
          "text": "0 v\n1 a\n2 r\n3 s\n4 h\n5 a\n",
          "output_type": "stream"
        }
      ]
    },
    {
      "cell_type": "code",
      "source": "#reverse:\ns",
      "metadata": {
        "trusted": true
      },
      "execution_count": 43,
      "outputs": [
        {
          "execution_count": 43,
          "output_type": "execute_result",
          "data": {
            "text/plain": "'varsha'"
          },
          "metadata": {}
        }
      ]
    },
    {
      "cell_type": "code",
      "source": "list(range(len(s), 0, -1))",
      "metadata": {
        "trusted": true
      },
      "execution_count": 45,
      "outputs": [
        {
          "execution_count": 45,
          "output_type": "execute_result",
          "data": {
            "text/plain": "[6, 5, 4, 3, 2, 1]"
          },
          "metadata": {}
        }
      ]
    },
    {
      "cell_type": "code",
      "source": "#string\ns",
      "metadata": {
        "trusted": true
      },
      "execution_count": 46,
      "outputs": [
        {
          "execution_count": 46,
          "output_type": "execute_result",
          "data": {
            "text/plain": "'varsha'"
          },
          "metadata": {}
        }
      ]
    },
    {
      "cell_type": "code",
      "source": "#reverse:\nfor i in range(len(s)-1, -1, -1):\n    print(i,s[i])",
      "metadata": {
        "trusted": true
      },
      "execution_count": 49,
      "outputs": [
        {
          "name": "stdout",
          "text": "5 a\n4 h\n3 s\n2 r\n1 a\n0 v\n",
          "output_type": "stream"
        }
      ]
    },
    {
      "cell_type": "code",
      "source": "#try to print items in te dict,\nd = {\"key\":\"varsha\",\"contact\":\"ineuran.ai\",\"position\":\"xyz\"}\nfor i in d.items():\n    print(i)",
      "metadata": {
        "trusted": true
      },
      "execution_count": 58,
      "outputs": [
        {
          "name": "stdout",
          "text": "('key', 'varsha')\n('contact', 'ineuran.ai')\n('position', 'xyz')\n",
          "output_type": "stream"
        }
      ]
    },
    {
      "cell_type": "code",
      "source": "#type of values:\nfor i in d.items():\n    print(i, type(i[1]))",
      "metadata": {
        "trusted": true
      },
      "execution_count": 59,
      "outputs": [
        {
          "name": "stdout",
          "text": "('key', 'varsha') <class 'str'>\n('contact', 'ineuran.ai') <class 'str'>\n('position', 'xyz') <class 'str'>\n",
          "output_type": "stream"
        }
      ]
    },
    {
      "cell_type": "code",
      "source": "#if we count only int\nl=[1,2,3,4,5,\"varsha\",\"gs\",456]\nl1=[]\nfor i in l:\n    if type(i) == int:\n        l1.append(i)",
      "metadata": {
        "trusted": true
      },
      "execution_count": 60,
      "outputs": []
    },
    {
      "cell_type": "code",
      "source": "l1",
      "metadata": {
        "trusted": true
      },
      "execution_count": 61,
      "outputs": [
        {
          "execution_count": 61,
          "output_type": "execute_result",
          "data": {
            "text/plain": "[1, 2, 3, 4, 5, 456]"
          },
          "metadata": {}
        }
      ]
    },
    {
      "cell_type": "code",
      "source": "#extractiong all the numberic values and keys:\nd= {1:23424767,\"name\":\"varsha\",\"email_id\":\"varsha.com\",234:\"vareds\",\"34\":\"efdsf\",234:\"2345\"}\nfor i in d:\n    if type(i) == int:\n        print(i, \":\", d[i])",
      "metadata": {
        "trusted": true
      },
      "execution_count": 63,
      "outputs": [
        {
          "name": "stdout",
          "text": "1 : 23424767\n234 : 2345\n",
          "output_type": "stream"
        }
      ]
    },
    {
      "cell_type": "code",
      "source": "#extractiong all the not-numberic values and keys:\nd= {1:23424767,\"name\":\"varsha\",\"email_id\":\"varsha.com\",234:\"vareds\",\"34\":\"efdsf\",234:\"2345\"}\nfor i in d:\n    if type(i) != int:\n        print(i, \":\", d[i])",
      "metadata": {
        "trusted": true
      },
      "execution_count": 64,
      "outputs": [
        {
          "name": "stdout",
          "text": "name : varsha\nemail_id : varsha.com\n34 : efdsf\n",
          "output_type": "stream"
        }
      ]
    },
    {
      "cell_type": "code",
      "source": "s=\"hfgdtdhtsdtujgf\"\n#print one by one in count:\nfor i in set(s):\n    print(i, \":\", s.count(i))",
      "metadata": {
        "trusted": true
      },
      "execution_count": 65,
      "outputs": [
        {
          "name": "stdout",
          "text": "t : 3\nu : 1\ns : 1\nf : 2\ng : 2\nd : 3\nj : 1\nh : 2\n",
          "output_type": "stream"
        }
      ]
    },
    {
      "cell_type": "code",
      "source": "i=3456765\nfor j in str(i):\n    print(int(j), type(int(j)))",
      "metadata": {
        "trusted": true
      },
      "execution_count": 67,
      "outputs": [
        {
          "name": "stdout",
          "text": "3 <class 'int'>\n4 <class 'int'>\n5 <class 'int'>\n6 <class 'int'>\n7 <class 'int'>\n6 <class 'int'>\n5 <class 'int'>\n",
          "output_type": "stream"
        }
      ]
    },
    {
      "cell_type": "code",
      "source": "#extract 3\nt1=(\"varsha\",\"GS\",[1,2,3,4,5],(3,4,5,6),{\"key1\":\"varsha\",\"key2\":\"GS\"})\n\n\n   ",
      "metadata": {
        "trusted": true
      },
      "execution_count": 80,
      "outputs": []
    },
    {
      "cell_type": "code",
      "source": "#extract 3\nt2=(\"varsha\",\"GS\",[1,2,3,4,5],(3,4,5,6),{3:3,\"key2\":\"GS\"})\n\n\n   ",
      "metadata": {
        "trusted": true
      },
      "execution_count": 85,
      "outputs": []
    },
    {
      "cell_type": "code",
      "source": "#extract 3\nfor i in t1:\n    if type(i) == list or type(i) == tuple:\n        for j in i:\n            if j == 3:\n                print(j)\n   ",
      "metadata": {
        "trusted": true
      },
      "execution_count": 83,
      "outputs": [
        {
          "name": "stdout",
          "text": "3\n3\n",
          "output_type": "stream"
        }
      ]
    },
    {
      "cell_type": "code",
      "source": "t2",
      "metadata": {
        "trusted": true
      },
      "execution_count": 86,
      "outputs": [
        {
          "execution_count": 86,
          "output_type": "execute_result",
          "data": {
            "text/plain": "('varsha', 'GS', [1, 2, 3, 4, 5], (3, 4, 5, 6), {3: 3, 'key2': 'GS'})"
          },
          "metadata": {}
        }
      ]
    },
    {
      "cell_type": "code",
      "source": "for i in t2:\n    if type(i) == list or type(i) == tuple:\n        for j in i:\n            if j == 3:\n                print(j)\n    if type(i) == dict:\n        print(i)\n        for k in i.items():\n            print(k)",
      "metadata": {
        "trusted": true
      },
      "execution_count": 87,
      "outputs": [
        {
          "name": "stdout",
          "text": "3\n3\n{3: 3, 'key2': 'GS'}\n(3, 3)\n('key2', 'GS')\n",
          "output_type": "stream"
        }
      ]
    },
    {
      "cell_type": "code",
      "source": "#extract all the 3\nfor i in t2:\n    if type(i) == list or type(i) == tuple:\n        for j in i:\n            if j == 3:\n                print(j)\n    if type(i) == dict:\n        print(i)\n        for k,v in i.items():\n            if k == 3 or v == 3:\n                print(k)\n                print(v)",
      "metadata": {
        "trusted": true
      },
      "execution_count": 89,
      "outputs": [
        {
          "name": "stdout",
          "text": "3\n3\n{3: 3, 'key2': 'GS'}\n3\n3\n",
          "output_type": "stream"
        }
      ]
    },
    {
      "cell_type": "code",
      "source": "#d.items\nd={4:5, \"key1\":\"varsha\",\"key2\":\"GS\"}\nfor i in d.items():\n    print(i)",
      "metadata": {
        "trusted": true
      },
      "execution_count": 90,
      "outputs": [
        {
          "name": "stdout",
          "text": "(4, 5)\n('key1', 'varsha')\n('key2', 'GS')\n",
          "output_type": "stream"
        }
      ]
    },
    {
      "cell_type": "code",
      "source": "",
      "metadata": {},
      "execution_count": null,
      "outputs": []
    }
  ]
}